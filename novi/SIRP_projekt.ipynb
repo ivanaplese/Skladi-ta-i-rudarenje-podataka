{
 "cells": [
  {
   "cell_type": "code",
   "execution_count": 1,
   "id": "effa789f",
   "metadata": {},
   "outputs": [],
   "source": [
    "import pandas as pd\n",
    "import numpy as np\n"
   ]
  },
  {
   "cell_type": "code",
   "execution_count": 2,
   "id": "79f8babc",
   "metadata": {},
   "outputs": [],
   "source": [
    "PATH= r\"C:\\Users\\Ivana\\OneDrive\\Desktop\\SIR\\SIR_projekt\\Crash_Data.csv\"\n",
    "\n",
    "    "
   ]
  },
  {
   "cell_type": "code",
   "execution_count": 3,
   "id": "9b460d8b",
   "metadata": {},
   "outputs": [],
   "source": [
    "data = pd.read_csv(PATH, delimiter=',',nrows=52844, low_memory=False)"
   ]
  },
  {
   "cell_type": "code",
   "execution_count": 4,
   "id": "1defd762",
   "metadata": {},
   "outputs": [],
   "source": [
    "PATH= r\"C:\\Users\\Ivana\\OneDrive\\Desktop\\SIR\\SIR_projekt\\Crash_Data.csv\"\n",
    "data = pd.read_csv(PATH, delimiter=',',nrows=52844, low_memory=False)\n",
    "# Zamjena praznih vrijednosti sa NaN\n",
    "data.replace('', np.nan, inplace=True)\n"
   ]
  },
  {
   "cell_type": "code",
   "execution_count": 5,
   "id": "025548a7",
   "metadata": {},
   "outputs": [
    {
     "name": "stdout",
     "output_type": "stream",
     "text": [
      "   Crash ID State  Month  Year   Dayweek   Time Crash Type Bus Involvement  \\\n",
      "0  20212133   Vic      9  2021    Sunday   0:30     Single             NaN   \n",
      "1  20214022    SA      9  2021  Saturday  23:31   Multiple              No   \n",
      "2  20212096   Vic      9  2021  Saturday  23:00     Single             NaN   \n",
      "3  20212145   Vic      9  2021  Saturday  22:25     Single             NaN   \n",
      "4  20212075   Vic      9  2021  Saturday   5:15     Single             NaN   \n",
      "\n",
      "  Heavy Rigid Truck Involvement Articulated Truck Involvement  ... Age  \\\n",
      "0                           NaN                           NaN  ...  38   \n",
      "1                            No                            No  ...  28   \n",
      "2                           NaN                           NaN  ...  19   \n",
      "3                           NaN                           NaN  ...  23   \n",
      "4                           NaN                           NaN  ...  46   \n",
      "\n",
      "   National Remoteness Areas           SA4 Name 2016  National LGA Name 2017  \\\n",
      "0   Inner Regional Australia  Melbourne - Outer East        Yarra Ranges (S)   \n",
      "1  Major Cities of Australia        Adelaide - North            Playford (C)   \n",
      "2   Inner Regional Australia                    Hume         Wangaratta (RC)   \n",
      "3   Outer Regional Australia                    Hume         Wangaratta (RC)   \n",
      "4  Major Cities of Australia  Melbourne - South East               Casey (C)   \n",
      "\n",
      "  National Road Type Christmas Period Easter Period Age Group Day of week  \\\n",
      "0      Arterial Road               No            No  26_to_39     Weekend   \n",
      "1                NaN               No            No  26_to_39     Weekend   \n",
      "2        Access road               No            No  17_to_25     Weekend   \n",
      "3      Arterial Road               No            No  17_to_25     Weekend   \n",
      "4         Local Road               No            No  40_to_64     Weekend   \n",
      "\n",
      "  Time of day  \n",
      "0       Night  \n",
      "1       Night  \n",
      "2       Night  \n",
      "3       Night  \n",
      "4       Night  \n",
      "\n",
      "[5 rows x 23 columns]\n"
     ]
    }
   ],
   "source": [
    "print(data.head())"
   ]
  },
  {
   "cell_type": "code",
   "execution_count": 6,
   "id": "e229aea5",
   "metadata": {},
   "outputs": [
    {
     "name": "stdout",
     "output_type": "stream",
     "text": [
      "(52843, 23)\n"
     ]
    }
   ],
   "source": [
    "# Ispis dimenzija skupa podataka (potrebno je učitati sve podatke radi analize, ne samo prvih 2000 redova)\n",
    "print(data.shape)"
   ]
  },
  {
   "cell_type": "code",
   "execution_count": 7,
   "id": "a09b3157",
   "metadata": {},
   "outputs": [
    {
     "name": "stdout",
     "output_type": "stream",
     "text": [
      "Crash ID                             0\n",
      "State                                0\n",
      "Month                                0\n",
      "Year                                 0\n",
      "Dayweek                              0\n",
      "Time                                40\n",
      "Crash Type                           0\n",
      "Bus Involvement                     22\n",
      "Heavy Rigid Truck Involvement    20515\n",
      "Articulated Truck Involvement       22\n",
      "Speed Limit                        702\n",
      "Road User                            0\n",
      "Gender                              27\n",
      "Age                                  0\n",
      "National Remoteness Areas        45965\n",
      "SA4 Name 2016                    45951\n",
      "National LGA Name 2017           45950\n",
      "National Road Type               45966\n",
      "Christmas Period                     0\n",
      "Easter Period                        0\n",
      "Age Group                           90\n",
      "Day of week                          0\n",
      "Time of day                          0\n",
      "dtype: int64\n"
     ]
    }
   ],
   "source": [
    "# Ispis imena stupaca i nedostajućih vrijednosti\n",
    "print(data.isna().sum())"
   ]
  },
  {
   "cell_type": "code",
   "execution_count": 8,
   "id": "c248af01",
   "metadata": {},
   "outputs": [
    {
     "name": "stdout",
     "output_type": "stream",
     "text": [
      "Crash ID                         47567\n",
      "State                                8\n",
      "Month                               12\n",
      "Year                                33\n",
      "Dayweek                              7\n",
      "Time                              1413\n",
      "Crash Type                           2\n",
      "Bus Involvement                      2\n",
      "Heavy Rigid Truck Involvement        2\n",
      "Articulated Truck Involvement        2\n",
      "Speed Limit                         19\n",
      "Road User                            7\n",
      "Gender                               3\n",
      "Age                                103\n",
      "National Remoteness Areas            5\n",
      "SA4 Name 2016                       88\n",
      "National LGA Name 2017             500\n",
      "National Road Type                  13\n",
      "Christmas Period                     2\n",
      "Easter Period                        2\n",
      "Age Group                            6\n",
      "Day of week                          2\n",
      "Time of day                          2\n",
      "dtype: int64\n"
     ]
    }
   ],
   "source": [
    "# Ispis broja jedinstvenih vrijednosti po stupcima\n",
    "print(data.nunique())"
   ]
  },
  {
   "cell_type": "code",
   "execution_count": 9,
   "id": "3b3fa4d7",
   "metadata": {},
   "outputs": [
    {
     "name": "stdout",
     "output_type": "stream",
     "text": [
      "Crash ID                          int64\n",
      "State                            object\n",
      "Month                             int64\n",
      "Year                              int64\n",
      "Dayweek                          object\n",
      "Time                             object\n",
      "Crash Type                       object\n",
      "Bus Involvement                  object\n",
      "Heavy Rigid Truck Involvement    object\n",
      "Articulated Truck Involvement    object\n",
      "Speed Limit                      object\n",
      "Road User                        object\n",
      "Gender                           object\n",
      "Age                               int64\n",
      "National Remoteness Areas        object\n",
      "SA4 Name 2016                    object\n",
      "National LGA Name 2017           object\n",
      "National Road Type               object\n",
      "Christmas Period                 object\n",
      "Easter Period                    object\n",
      "Age Group                        object\n",
      "Day of week                      object\n",
      "Time of day                      object\n",
      "dtype: object\n"
     ]
    }
   ],
   "source": [
    "# Ispis tipova podataka po stupcima (analiza kvanitativnih i kvalitativnih varijabli)\n",
    "print(data.dtypes)"
   ]
  },
  {
   "cell_type": "code",
   "execution_count": 10,
   "id": "0759fd69",
   "metadata": {},
   "outputs": [
    {
     "name": "stdout",
     "output_type": "stream",
     "text": [
      "Crash ID\n",
      "19891474    35\n",
      "19891105    20\n",
      "19943355    12\n",
      "19903318    11\n",
      "20072222    11\n",
      "            ..\n",
      "20072044     1\n",
      "20076027     1\n",
      "20071308     1\n",
      "20073064     1\n",
      "19896063     1\n",
      "Name: count, Length: 47567, dtype: int64\n",
      "...\n",
      "State\n",
      "NSW    16293\n",
      "Vic    11562\n",
      "Qld    10495\n",
      "WA      6276\n",
      "SA      4547\n",
      "NT      1642\n",
      "Tas     1550\n",
      "ACT      478\n",
      "Name: count, dtype: int64\n",
      "...\n",
      "Month\n",
      "12    4721\n",
      "3     4673\n",
      "8     4512\n",
      "10    4509\n",
      "5     4447\n",
      "11    4388\n",
      "9     4337\n",
      "6     4333\n",
      "1     4329\n",
      "7     4321\n",
      "4     4298\n",
      "2     3975\n",
      "Name: count, dtype: int64\n",
      "...\n",
      "Year\n",
      "1989    2800\n",
      "1990    2331\n",
      "1991    2113\n",
      "1995    2017\n",
      "1992    1974\n",
      "1996    1970\n",
      "1993    1953\n",
      "1994    1928\n",
      "2000    1817\n",
      "1997    1767\n",
      "1999    1764\n",
      "1998    1755\n",
      "2001    1737\n",
      "2002    1715\n",
      "2005    1627\n",
      "2003    1621\n",
      "2007    1603\n",
      "2006    1598\n",
      "2004    1583\n",
      "2009    1491\n",
      "2008    1437\n",
      "2010    1353\n",
      "2012    1300\n",
      "2016    1292\n",
      "2011    1277\n",
      "2017    1222\n",
      "2015    1204\n",
      "2013    1187\n",
      "2019    1186\n",
      "2014    1151\n",
      "2018    1134\n",
      "2020    1093\n",
      "2021     843\n",
      "Name: count, dtype: int64\n",
      "...\n",
      "Dayweek\n",
      "Saturday     9696\n",
      "Friday       8665\n",
      "Sunday       8460\n",
      "Thursday     7106\n",
      "Wednesday    6663\n",
      "Tuesday      6145\n",
      "Monday       6108\n",
      "Name: count, dtype: int64\n",
      "...\n",
      "Time\n",
      "15:00    1144\n",
      "16:00    1055\n",
      "18:00     983\n",
      "17:00     963\n",
      "14:00     944\n",
      "         ... \n",
      "4:39        1\n",
      "7:36        1\n",
      "6:36        1\n",
      "2:12        1\n",
      "6:57        1\n",
      "Name: count, Length: 1413, dtype: int64\n",
      "...\n",
      "Crash Type\n",
      "Single      29249\n",
      "Multiple    23594\n",
      "Name: count, dtype: int64\n",
      "...\n",
      "Bus Involvement\n",
      "No     51835\n",
      "Yes      986\n",
      "Name: count, dtype: int64\n",
      "...\n",
      "Heavy Rigid Truck Involvement\n",
      "No     30735\n",
      "Yes     1593\n",
      "Name: count, dtype: int64\n",
      "...\n",
      "Articulated Truck Involvement\n",
      "No     47476\n",
      "Yes     5345\n",
      "Name: count, dtype: int64\n",
      "...\n",
      "Speed Limit\n",
      "100            18248\n",
      "60             13686\n",
      "80              6119\n",
      "110             6038\n",
      "50              2903\n",
      "70              2538\n",
      "90              1137\n",
      "-9               684\n",
      "40               346\n",
      "75               254\n",
      "130              116\n",
      "20                27\n",
      "10                18\n",
      "30                14\n",
      "<40                5\n",
      "5                  3\n",
      "25                 2\n",
      "Unspecified        2\n",
      "15                 1\n",
      "Name: count, dtype: int64\n",
      "...\n",
      "Road User\n",
      "Driver                          23816\n",
      "Passenger                       12269\n",
      "Pedestrian                       8242\n",
      "Motorcycle rider                 6637\n",
      "Pedal cyclist                    1424\n",
      "Motorcycle pillion passenger      363\n",
      "Other/-9                           92\n",
      "Name: count, dtype: int64\n",
      "...\n",
      "Gender\n",
      "Male           37813\n",
      "Female         15002\n",
      "Unspecified        1\n",
      "Name: count, dtype: int64\n",
      "...\n",
      "Age\n",
      "18     1953\n",
      "19     1795\n",
      "20     1760\n",
      "21     1593\n",
      "22     1417\n",
      "       ... \n",
      "97       17\n",
      "98        7\n",
      "99        6\n",
      "101       2\n",
      "100       1\n",
      "Name: count, Length: 103, dtype: int64\n",
      "...\n",
      "National Remoteness Areas\n",
      "Major Cities of Australia    2370\n",
      "Inner Regional Australia     2213\n",
      "Outer Regional Australia     1652\n",
      "Very Remote Australia         339\n",
      "Remote Australia              304\n",
      "Name: count, dtype: int64\n",
      "...\n",
      "SA4 Name 2016\n",
      "Western Australia - Wheat Belt    230\n",
      "South Australia - South East      201\n",
      "Northern Territory - Outback      172\n",
      "Capital Region                    167\n",
      "Central West                      161\n",
      "                                 ... \n",
      "Moreton Bay - South                19\n",
      "Brisbane - North                   18\n",
      "Toowoomba                          14\n",
      "Brisbane Inner City                11\n",
      "Brisbane - West                     4\n",
      "Name: count, Length: 88, dtype: int64\n",
      "...\n",
      "National LGA Name 2017\n",
      "Central Coast      91\n",
      "Brisbane (C)       73\n",
      "Lake Macquarie     62\n",
      "Gold Coast (C)     61\n",
      "Moreton Bay (R)    60\n",
      "                   ..\n",
      "Esperance           1\n",
      "Perenjori (S)       1\n",
      "Derby - West Ki     1\n",
      "Kent (S)            1\n",
      "Leonora (S)         1\n",
      "Name: count, Length: 500, dtype: int64\n",
      "...\n",
      "National Road Type\n",
      "National or State Highway    1863\n",
      "Arterial Road                1574\n",
      "Local Road                   1307\n",
      "Sub-arterial Road            1048\n",
      "Collector Road                483\n",
      "ARTERIAL ROAD                 195\n",
      "NATIONAL OR STATE HIGHWAY     156\n",
      "LOCAL ROAD                    127\n",
      "Access road                   101\n",
      "Undetermined                   15\n",
      "Pedestrian Thoroughfare         5\n",
      "Busway                          2\n",
      "ACCESS ROAD                     1\n",
      "Name: count, dtype: int64\n",
      "...\n",
      "Christmas Period\n",
      "No     51208\n",
      "Yes     1635\n",
      "Name: count, dtype: int64\n",
      "...\n",
      "Easter Period\n",
      "No     52573\n",
      "Yes      270\n",
      "Name: count, dtype: int64\n",
      "...\n",
      "Age Group\n",
      "17_to_25       13771\n",
      "40_to_64       13415\n",
      "26_to_39       12364\n",
      "75_or_older     5110\n",
      "0_to_16         4080\n",
      "65_to_74        4013\n",
      "Name: count, dtype: int64\n",
      "...\n",
      "Day of week\n",
      "Weekday    31066\n",
      "Weekend    21777\n",
      "Name: count, dtype: int64\n",
      "...\n",
      "Time of day\n",
      "Day      30117\n",
      "Night    22726\n",
      "Name: count, dtype: int64\n",
      "...\n"
     ]
    }
   ],
   "source": [
    "# Ispis broja jedinstvenih vrijednosti po stupcima\n",
    "for column in data:\n",
    "    print(data[column].value_counts())\n",
    "    input(\"...\")"
   ]
  },
  {
   "cell_type": "code",
   "execution_count": 11,
   "id": "d6e103d4",
   "metadata": {},
   "outputs": [
    {
     "name": "stdout",
     "output_type": "stream",
     "text": [
      "['Crash ID' 'State' 'Month' 'Year' 'Dayweek' 'Time' 'Crash Type'\n",
      " 'Bus Involvement' 'Heavy Rigid Truck Involvement'\n",
      " 'Articulated Truck Involvement' 'Speed Limit' 'Road User' 'Gender' 'Age'\n",
      " 'National Remoteness Areas' 'SA4 Name 2016' 'National LGA Name 2017'\n",
      " 'National Road Type' 'Christmas Period' 'Easter Period' 'Age Group'\n",
      " 'Day of week' 'Time of day']\n"
     ]
    }
   ],
   "source": [
    "# Ispis imena stupaca\n",
    "print(data.columns.values)"
   ]
  },
  {
   "cell_type": "markdown",
   "id": "2fad6ba1",
   "metadata": {},
   "source": [
    "Je li je skup podataka dovoljno velik? Mislim da je s obzirom da ima preko 52tis redaka.\n",
    "Je li skup ima dovoljno različite podatke? Svakako ima s obzirom da ima 23 stupaca.\n",
    "Je li skup ima vremensku dimenziju? Ima vremensku dimenziju- mjesec, godinu pa čak i koji je dan i vrijeme u danu.\n",
    "Je li skup ima kvantitativne i kvalitativne podatke? Ima, object su uglavnom kvalitativni, a int i float numerički.\n",
    "Je li skup ima puno nedostajućih vrijednosti? Pa i ima ali mislim da je 200 zapravo malo kad ima preko 50tis redaka...."
   ]
  },
  {
   "cell_type": "code",
   "execution_count": 12,
   "id": "df9cce24",
   "metadata": {},
   "outputs": [],
   "source": [
    "# 1. Skripta za predprocesiranje skupa podataka\n"
   ]
  },
  {
   "cell_type": "code",
   "execution_count": 13,
   "id": "9eaa7acd",
   "metadata": {},
   "outputs": [
    {
     "name": "stdout",
     "output_type": "stream",
     "text": [
      "CSV size before:  (52843, 23)\n"
     ]
    }
   ],
   "source": [
    "data = pd.read_csv(PATH, delimiter=',', low_memory=False)\n",
    "print(\"CSV size before: \", data.shape)"
   ]
  },
  {
   "cell_type": "code",
   "execution_count": 14,
   "id": "cee822e0",
   "metadata": {},
   "outputs": [],
   "source": [
    "data.drop(columns=['National Remoteness Areas', 'SA4 Name 2016', 'National LGA Name 2017', 'National Road Type'], inplace=True)\n"
   ]
  },
  {
   "cell_type": "code",
   "execution_count": 15,
   "id": "43712eed",
   "metadata": {},
   "outputs": [],
   "source": [
    "data= data.dropna() #briše sve nedostajuće vrijednosti, NaN"
   ]
  },
  {
   "cell_type": "code",
   "execution_count": 16,
   "id": "1e81b0d6",
   "metadata": {},
   "outputs": [
    {
     "name": "stdout",
     "output_type": "stream",
     "text": [
      "CSV size after:  (31753, 19)\n"
     ]
    }
   ],
   "source": [
    "print(\"CSV size after: \", data.shape) "
   ]
  },
  {
   "cell_type": "code",
   "execution_count": 17,
   "id": "5acc561a",
   "metadata": {},
   "outputs": [
    {
     "name": "stdout",
     "output_type": "stream",
     "text": [
      "    Crash ID State  Month  Year   Dayweek   Time Crash Type Bus Involvement  \\\n",
      "1   20214022    SA      9  2021  Saturday  23:31   Multiple              No   \n",
      "5   20213034   Qld      9  2021  Saturday   4:00   Multiple              No   \n",
      "6   20215071    WA      9  2021  Saturday  19:10     Single              No   \n",
      "9   20213092   Qld      9  2021  Saturday   2:00     Single              No   \n",
      "10  20214053    SA      9  2021  Thursday  21:00     Single              No   \n",
      "\n",
      "   Heavy Rigid Truck Involvement Articulated Truck Involvement Speed Limit  \\\n",
      "1                             No                            No         110   \n",
      "5                             No                            No         100   \n",
      "6                             No                            No         100   \n",
      "9                             No                            No          60   \n",
      "10                            No                            No          80   \n",
      "\n",
      "           Road User  Gender  Age Christmas Period Easter Period Age Group  \\\n",
      "1         Pedestrian  Female   28               No            No  26_to_39   \n",
      "5   Motorcycle rider    Male   19               No            No  17_to_25   \n",
      "6             Driver  Female   20               No            No  17_to_25   \n",
      "9             Driver    Male   47               No            No  40_to_64   \n",
      "10            Driver    Male   24               No            No  17_to_25   \n",
      "\n",
      "   Day of week Time of day  \n",
      "1      Weekend       Night  \n",
      "5      Weekend       Night  \n",
      "6      Weekend       Night  \n",
      "9      Weekend       Night  \n",
      "10     Weekday       Night  \n"
     ]
    }
   ],
   "source": [
    "print(data.head())"
   ]
  },
  {
   "cell_type": "code",
   "execution_count": 18,
   "id": "c358de22",
   "metadata": {},
   "outputs": [],
   "source": [
    "data.to_csv(\"Crash_Data_novi.csv\", index=False) # Spremanje predprocesiranog skupa podataka u novu CSV datoteku"
   ]
  },
  {
   "cell_type": "code",
   "execution_count": 19,
   "id": "aaed7df5",
   "metadata": {},
   "outputs": [
    {
     "name": "stdout",
     "output_type": "stream",
     "text": [
      "CSV size 80:  (25402, 19)\n",
      "CSV size 20:  (6351, 19)\n"
     ]
    }
   ],
   "source": [
    "data20 = data.sample(frac=0.2, random_state=1)\n",
    "data = data.drop(data20.index)\n",
    "print(\"CSV size 80: \", data.shape)\n",
    "print(\"CSV size 20: \", data20.shape) # Random dijeljenje skupa podataka na dva dijela 80:20 (trebati će nam kasnije)"
   ]
  },
  {
   "cell_type": "code",
   "execution_count": 20,
   "id": "033fb101",
   "metadata": {},
   "outputs": [],
   "source": [
    "data20.to_csv(\"Crash_Data_20_novi.csv\", index=False)"
   ]
  },
  {
   "cell_type": "code",
   "execution_count": 21,
   "id": "ae77e6fc",
   "metadata": {},
   "outputs": [
    {
     "name": "stdout",
     "output_type": "stream",
     "text": [
      "['Crash ID' 'State' 'Month' 'Year' 'Dayweek' 'Time' 'Crash Type'\n",
      " 'Bus Involvement' 'Heavy Rigid Truck Involvement'\n",
      " 'Articulated Truck Involvement' 'Speed Limit' 'Road User' 'Gender' 'Age'\n",
      " 'Christmas Period' 'Easter Period' 'Age Group' 'Day of week'\n",
      " 'Time of day']\n",
      "Crash ID                          int64\n",
      "State                            object\n",
      "Month                             int64\n",
      "Year                              int64\n",
      "Dayweek                          object\n",
      "Time                             object\n",
      "Crash Type                       object\n",
      "Bus Involvement                  object\n",
      "Heavy Rigid Truck Involvement    object\n",
      "Articulated Truck Involvement    object\n",
      "Speed Limit                      object\n",
      "Road User                        object\n",
      "Gender                           object\n",
      "Age                               int64\n",
      "Christmas Period                 object\n",
      "Easter Period                    object\n",
      "Age Group                        object\n",
      "Day of week                      object\n",
      "Time of day                      object\n",
      "dtype: object\n"
     ]
    }
   ],
   "source": [
    "print(data.columns.values)\n",
    "print(data.dtypes)"
   ]
  },
  {
   "cell_type": "code",
   "execution_count": null,
   "id": "323623da",
   "metadata": {},
   "outputs": [],
   "source": []
  }
 ],
 "metadata": {
  "kernelspec": {
   "display_name": "Python 3 (ipykernel)",
   "language": "python",
   "name": "python3"
  },
  "language_info": {
   "codemirror_mode": {
    "name": "ipython",
    "version": 3
   },
   "file_extension": ".py",
   "mimetype": "text/x-python",
   "name": "python",
   "nbconvert_exporter": "python",
   "pygments_lexer": "ipython3",
   "version": "3.11.3"
  }
 },
 "nbformat": 4,
 "nbformat_minor": 5
}
